{
 "cells": [
  {
   "cell_type": "code",
   "execution_count": null,
   "metadata": {},
   "outputs": [],
   "source": [
    "var(\"x y\")\n",
    "\n",
    "f1 = x <= 3-3*y\n",
    "f2 = y <= 4-2*x\n",
    "f3 = x == 3-3*y\n",
    "f4 = y == 4-2*x\n",
    "\n",
    "rx = (-10,15)\n",
    "ry = rx\n",
    "\n",
    "i = [f1, f2] # i meaning inequalities\n",
    "\n",
    "p = region_plot(i, rx, ry, incol=\"orange\",alpha=0.4)\n",
    "p += region_plot(f1, rx, ry, incol=\"yellow\",alpha=0.4)\n",
    "p += region_plot(f2, rx, ry, incol=\"red\",alpha=0.4)\n",
    "p+= implicit_plot(f3, rx, ry, color=\"black\", legend_label='test')\n",
    "p+= implicit_plot(f4, rx, ry, color=\"black\")\n",
    "p.fontsize(18)\n",
    "show(p, axes=\"true\", frame=False, aspect_ratio=1, figsize = (6, 6), gridlines =True)\n",
    "# p"
   ]
  }
 ],
 "metadata": {
  "kernelspec": {
   "display_name": "SageMath 9.2",
   "language": "sage",
   "name": "sagemath"
  },
  "language_info": {
   "codemirror_mode": {
    "name": "ipython",
    "version": 3
   },
   "file_extension": ".py",
   "mimetype": "text/x-python",
   "name": "python",
   "nbconvert_exporter": "python",
   "pygments_lexer": "ipython3",
   "version": "3.7.7"
  }
 },
 "nbformat": 4,
 "nbformat_minor": 4
}
